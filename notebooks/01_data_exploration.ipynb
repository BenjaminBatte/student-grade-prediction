{
 "cells": [
  {
   "cell_type": "markdown",
   "metadata": {},
   "source": [
    "# Data Exploration\n",
    "This notebook explores the raw student performance datasets."
   ]
  },
  {
   "cell_type": "code",
   "execution_count": 24,
   "metadata": {},
   "outputs": [],
   "source": [
    "from pathlib import Path\n",
    "import sys\n",
    "\n",
    "# Add the src folder directly\n",
    "project_root = Path.cwd().parent\n",
    "src_path = project_root / \"src\"\n",
    "sys.path.insert(0, str(src_path))\n",
    "\n",
    "from data_loader import load_data\n",
    "from preprocessing import build_preprocessor\n",
    "from eda import summarize_dataset, plot_distributions, plot_correlation_heatmap\n"
   ]
  },
  {
   "cell_type": "code",
   "execution_count": null,
   "metadata": {},
   "outputs": [],
   "source": []
  },
  {
   "cell_type": "code",
   "execution_count": 25,
   "metadata": {},
   "outputs": [
    {
     "name": "stdout",
     "output_type": "stream",
     "text": [
      "2025-09-27 17:59:15,459 [INFO] Math dataset loaded successfully with shape (395, 33)\n",
      "2025-09-27 17:59:15,472 [INFO] Portuguese dataset loaded successfully with shape (649, 33)\n"
     ]
    }
   ],
   "source": [
    "# Load datasets\n",
    "mat, por = load_data()"
   ]
  },
  {
   "cell_type": "code",
   "execution_count": 26,
   "metadata": {},
   "outputs": [
    {
     "name": "stdout",
     "output_type": "stream",
     "text": [
      "=== Math Dataset ===\n",
      "=== Dataset Summary ===\n",
      "Shape: (395, 33)\n",
      "\n",
      "Column Types:\n",
      " school        object\n",
      "sex           object\n",
      "age            int64\n",
      "address       object\n",
      "famsize       object\n",
      "Pstatus       object\n",
      "Medu           int64\n",
      "Fedu           int64\n",
      "Mjob          object\n",
      "Fjob          object\n",
      "reason        object\n",
      "guardian      object\n",
      "traveltime     int64\n",
      "studytime      int64\n",
      "failures       int64\n",
      "schoolsup     object\n",
      "famsup        object\n",
      "paid          object\n",
      "activities    object\n",
      "nursery       object\n",
      "higher        object\n",
      "internet      object\n",
      "romantic      object\n",
      "famrel         int64\n",
      "freetime       int64\n",
      "goout          int64\n",
      "Dalc           int64\n",
      "Walc           int64\n",
      "health         int64\n",
      "absences       int64\n",
      "G1             int64\n",
      "G2             int64\n",
      "G3             int64\n",
      "dtype: object\n",
      "\n",
      "Missing Values per Column:\n",
      " school        0\n",
      "sex           0\n",
      "age           0\n",
      "address       0\n",
      "famsize       0\n",
      "Pstatus       0\n",
      "Medu          0\n",
      "Fedu          0\n",
      "Mjob          0\n",
      "Fjob          0\n",
      "reason        0\n",
      "guardian      0\n",
      "traveltime    0\n",
      "studytime     0\n",
      "failures      0\n",
      "schoolsup     0\n",
      "famsup        0\n",
      "paid          0\n",
      "activities    0\n",
      "nursery       0\n",
      "higher        0\n",
      "internet      0\n",
      "romantic      0\n",
      "famrel        0\n",
      "freetime      0\n",
      "goout         0\n",
      "Dalc          0\n",
      "Walc          0\n",
      "health        0\n",
      "absences      0\n",
      "G1            0\n",
      "G2            0\n",
      "G3            0\n",
      "dtype: int64\n",
      "\n",
      "First 5 rows:\n",
      "   school sex  age address famsize Pstatus  Medu  Fedu     Mjob      Fjob  ...  \\\n",
      "0     GP   F   18       U     GT3       A     4     4  at_home   teacher  ...   \n",
      "1     GP   F   17       U     GT3       T     1     1  at_home     other  ...   \n",
      "2     GP   F   15       U     LE3       T     1     1  at_home     other  ...   \n",
      "3     GP   F   15       U     GT3       T     4     2   health  services  ...   \n",
      "4     GP   F   16       U     GT3       T     3     3    other     other  ...   \n",
      "\n",
      "  famrel freetime  goout  Dalc  Walc health absences  G1  G2  G3  \n",
      "0      4        3      4     1     1      3        6   5   6   6  \n",
      "1      5        3      3     1     1      3        4   5   5   6  \n",
      "2      4        3      2     2     3      3       10   7   8  10  \n",
      "3      3        2      2     1     1      5        2  15  14  15  \n",
      "4      4        3      2     1     2      5        4   6  10  10  \n",
      "\n",
      "[5 rows x 33 columns]\n",
      "Saved distribution plot: c:\\Users\\16412\\Documents\\Projects\\student-grade-prediction\\src\\..\\results\\figures\\math_age_distribution.png\n",
      "Saved distribution plot: c:\\Users\\16412\\Documents\\Projects\\student-grade-prediction\\src\\..\\results\\figures\\math_Medu_distribution.png\n",
      "Saved distribution plot: c:\\Users\\16412\\Documents\\Projects\\student-grade-prediction\\src\\..\\results\\figures\\math_Fedu_distribution.png\n",
      "Saved distribution plot: c:\\Users\\16412\\Documents\\Projects\\student-grade-prediction\\src\\..\\results\\figures\\math_traveltime_distribution.png\n",
      "Saved distribution plot: c:\\Users\\16412\\Documents\\Projects\\student-grade-prediction\\src\\..\\results\\figures\\math_studytime_distribution.png\n",
      "Saved distribution plot: c:\\Users\\16412\\Documents\\Projects\\student-grade-prediction\\src\\..\\results\\figures\\math_failures_distribution.png\n",
      "Saved distribution plot: c:\\Users\\16412\\Documents\\Projects\\student-grade-prediction\\src\\..\\results\\figures\\math_famrel_distribution.png\n",
      "Saved distribution plot: c:\\Users\\16412\\Documents\\Projects\\student-grade-prediction\\src\\..\\results\\figures\\math_freetime_distribution.png\n",
      "Saved distribution plot: c:\\Users\\16412\\Documents\\Projects\\student-grade-prediction\\src\\..\\results\\figures\\math_goout_distribution.png\n",
      "Saved distribution plot: c:\\Users\\16412\\Documents\\Projects\\student-grade-prediction\\src\\..\\results\\figures\\math_Dalc_distribution.png\n",
      "Saved distribution plot: c:\\Users\\16412\\Documents\\Projects\\student-grade-prediction\\src\\..\\results\\figures\\math_Walc_distribution.png\n",
      "Saved distribution plot: c:\\Users\\16412\\Documents\\Projects\\student-grade-prediction\\src\\..\\results\\figures\\math_health_distribution.png\n",
      "Saved distribution plot: c:\\Users\\16412\\Documents\\Projects\\student-grade-prediction\\src\\..\\results\\figures\\math_absences_distribution.png\n",
      "Saved distribution plot: c:\\Users\\16412\\Documents\\Projects\\student-grade-prediction\\src\\..\\results\\figures\\math_G1_distribution.png\n",
      "Saved distribution plot: c:\\Users\\16412\\Documents\\Projects\\student-grade-prediction\\src\\..\\results\\figures\\math_G2_distribution.png\n",
      "Saved distribution plot: c:\\Users\\16412\\Documents\\Projects\\student-grade-prediction\\src\\..\\results\\figures\\math_G3_distribution.png\n",
      "Saved correlation heatmap: c:\\Users\\16412\\Documents\\Projects\\student-grade-prediction\\src\\..\\results\\figures\\math_correlation_heatmap.png\n"
     ]
    }
   ],
   "source": [
    "if mat is not None:\n",
    "    print(\"=== Math Dataset ===\")\n",
    "    summarize_dataset(mat)\n",
    "    plot_distributions(mat, dataset_name=\"math\")\n",
    "    plot_correlation_heatmap(mat, dataset_name=\"math\")\n",
    " \n"
   ]
  }
 ],
 "metadata": {
  "kernelspec": {
   "display_name": "base",
   "language": "python",
   "name": "python3"
  },
  "language_info": {
   "codemirror_mode": {
    "name": "ipython",
    "version": 3
   },
   "file_extension": ".py",
   "mimetype": "text/x-python",
   "name": "python",
   "nbconvert_exporter": "python",
   "pygments_lexer": "ipython3",
   "version": "3.12.3"
  }
 },
 "nbformat": 4,
 "nbformat_minor": 4
}
