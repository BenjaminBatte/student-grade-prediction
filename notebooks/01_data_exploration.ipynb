{
 "cells": [
  {
   "cell_type": "markdown",
   "id": "db125d35",
   "metadata": {},
   "source": [
    "## 7. Observations\n",
    "\n",
    "- Features such as **studytime**, **failures**, **G1**, and **G2** are expected to strongly correlate with `G3` (final grade).  \n",
    "- Distributions show that most students cluster around mid-grade values.  \n",
    "- Correlation heatmaps highlight which predictors are most useful for modeling.  \n"
   ]
  },
  {
   "cell_type": "code",
   "execution_count": 6,
   "id": "49ab6904",
   "metadata": {},
   "outputs": [
    {
     "name": "stdout",
     "output_type": "stream",
     "text": [
      "✅ Saved correlation heatmaps to results/figures/\n"
     ]
    }
   ],
   "source": [
    "plot_correlation_heatmap(mat, dataset_name=\"math\")\n",
    "plot_correlation_heatmap(por, dataset_name=\"portuguese\")\n",
    "print(\"✅ Saved correlation heatmaps to results/figures/\")\n"
   ]
  },
  {
   "cell_type": "markdown",
   "id": "cc8a6121",
   "metadata": {},
   "source": [
    "## 6. Correlation Heatmaps\n"
   ]
  },
  {
   "cell_type": "code",
   "execution_count": 7,
   "id": "bf35fbb2",
   "metadata": {},
   "outputs": [
    {
     "name": "stdout",
     "output_type": "stream",
     "text": [
      "✅ Saved histograms to results/figures/\n"
     ]
    }
   ],
   "source": [
    "plot_distributions(mat, dataset_name=\"math\")\n",
    "plot_distributions(por, dataset_name=\"portuguese\")\n",
    "print(\"✅ Saved histograms to results/figures/\")\n"
   ]
  },
  {
   "cell_type": "markdown",
   "id": "f6b14575",
   "metadata": {},
   "source": [
    "## 5. Distributions of Numeric Features\n"
   ]
  },
  {
   "cell_type": "code",
   "execution_count": 8,
   "id": "fa2714e9",
   "metadata": {},
   "outputs": [
    {
     "name": "stdout",
     "output_type": "stream",
     "text": [
      "Total missing values (Math): 0\n",
      "Total missing values (Portuguese): 0\n"
     ]
    }
   ],
   "source": [
    "print(\"Total missing values (Math):\", mat.isnull().sum().sum())\n",
    "print(\"Total missing values (Portuguese):\", por.isnull().sum().sum())\n"
   ]
  },
  {
   "cell_type": "markdown",
   "id": "8b9e1ace",
   "metadata": {},
   "source": [
    "## 4. Missing Values Check\n"
   ]
  },
  {
   "cell_type": "code",
   "execution_count": 12,
   "id": "c984c25d",
   "metadata": {},
   "outputs": [
    {
     "name": "stdout",
     "output_type": "stream",
     "text": [
      "### Math Dataset\n",
      "=== Dataset Summary ===\n",
      "Shape: (395, 33)\n",
      "\n",
      "Column Types:\n",
      " school        object\n",
      "sex           object\n",
      "age            int64\n",
      "address       object\n",
      "famsize       object\n",
      "Pstatus       object\n",
      "Medu           int64\n",
      "Fedu           int64\n",
      "Mjob          object\n",
      "Fjob          object\n",
      "reason        object\n",
      "guardian      object\n",
      "traveltime     int64\n",
      "studytime      int64\n",
      "failures       int64\n",
      "schoolsup     object\n",
      "famsup        object\n",
      "paid          object\n",
      "activities    object\n",
      "nursery       object\n",
      "higher        object\n",
      "internet      object\n",
      "romantic      object\n",
      "famrel         int64\n",
      "freetime       int64\n",
      "goout          int64\n",
      "Dalc           int64\n",
      "Walc           int64\n",
      "health         int64\n",
      "absences       int64\n",
      "G1             int64\n",
      "G2             int64\n",
      "G3             int64\n",
      "dtype: object\n",
      "\n",
      "Missing Values per Column:\n",
      " school        0\n",
      "sex           0\n",
      "age           0\n",
      "address       0\n",
      "famsize       0\n",
      "Pstatus       0\n",
      "Medu          0\n",
      "Fedu          0\n",
      "Mjob          0\n",
      "Fjob          0\n",
      "reason        0\n",
      "guardian      0\n",
      "traveltime    0\n",
      "studytime     0\n",
      "failures      0\n",
      "schoolsup     0\n",
      "famsup        0\n",
      "paid          0\n",
      "activities    0\n",
      "nursery       0\n",
      "higher        0\n",
      "internet      0\n",
      "romantic      0\n",
      "famrel        0\n",
      "freetime      0\n",
      "goout         0\n",
      "Dalc          0\n",
      "Walc          0\n",
      "health        0\n",
      "absences      0\n",
      "G1            0\n",
      "G2            0\n",
      "G3            0\n",
      "dtype: int64\n",
      "\n",
      "First 5 rows:\n",
      "   school sex  age address famsize Pstatus  Medu  Fedu     Mjob      Fjob  ...  \\\n",
      "0     GP   F   18       U     GT3       A     4     4  at_home   teacher  ...   \n",
      "1     GP   F   17       U     GT3       T     1     1  at_home     other  ...   \n",
      "2     GP   F   15       U     LE3       T     1     1  at_home     other  ...   \n",
      "3     GP   F   15       U     GT3       T     4     2   health  services  ...   \n",
      "4     GP   F   16       U     GT3       T     3     3    other     other  ...   \n",
      "\n",
      "  famrel freetime  goout  Dalc  Walc health absences  G1  G2  G3  \n",
      "0      4        3      4     1     1      3        6   5   6   6  \n",
      "1      5        3      3     1     1      3        4   5   5   6  \n",
      "2      4        3      2     2     3      3       10   7   8  10  \n",
      "3      3        2      2     1     1      5        2  15  14  15  \n",
      "4      4        3      2     1     2      5        4   6  10  10  \n",
      "\n",
      "[5 rows x 33 columns]\n",
      "\n",
      "### Portuguese Dataset\n",
      "=== Dataset Summary ===\n",
      "Shape: (649, 33)\n",
      "\n",
      "Column Types:\n",
      " school        object\n",
      "sex           object\n",
      "age            int64\n",
      "address       object\n",
      "famsize       object\n",
      "Pstatus       object\n",
      "Medu           int64\n",
      "Fedu           int64\n",
      "Mjob          object\n",
      "Fjob          object\n",
      "reason        object\n",
      "guardian      object\n",
      "traveltime     int64\n",
      "studytime      int64\n",
      "failures       int64\n",
      "schoolsup     object\n",
      "famsup        object\n",
      "paid          object\n",
      "activities    object\n",
      "nursery       object\n",
      "higher        object\n",
      "internet      object\n",
      "romantic      object\n",
      "famrel         int64\n",
      "freetime       int64\n",
      "goout          int64\n",
      "Dalc           int64\n",
      "Walc           int64\n",
      "health         int64\n",
      "absences       int64\n",
      "G1             int64\n",
      "G2             int64\n",
      "G3             int64\n",
      "dtype: object\n",
      "\n",
      "Missing Values per Column:\n",
      " school        0\n",
      "sex           0\n",
      "age           0\n",
      "address       0\n",
      "famsize       0\n",
      "Pstatus       0\n",
      "Medu          0\n",
      "Fedu          0\n",
      "Mjob          0\n",
      "Fjob          0\n",
      "reason        0\n",
      "guardian      0\n",
      "traveltime    0\n",
      "studytime     0\n",
      "failures      0\n",
      "schoolsup     0\n",
      "famsup        0\n",
      "paid          0\n",
      "activities    0\n",
      "nursery       0\n",
      "higher        0\n",
      "internet      0\n",
      "romantic      0\n",
      "famrel        0\n",
      "freetime      0\n",
      "goout         0\n",
      "Dalc          0\n",
      "Walc          0\n",
      "health        0\n",
      "absences      0\n",
      "G1            0\n",
      "G2            0\n",
      "G3            0\n",
      "dtype: int64\n",
      "\n",
      "First 5 rows:\n",
      "   school sex  age address famsize Pstatus  Medu  Fedu     Mjob      Fjob  ...  \\\n",
      "0     GP   F   18       U     GT3       A     4     4  at_home   teacher  ...   \n",
      "1     GP   F   17       U     GT3       T     1     1  at_home     other  ...   \n",
      "2     GP   F   15       U     LE3       T     1     1  at_home     other  ...   \n",
      "3     GP   F   15       U     GT3       T     4     2   health  services  ...   \n",
      "4     GP   F   16       U     GT3       T     3     3    other     other  ...   \n",
      "\n",
      "  famrel freetime  goout  Dalc  Walc health absences  G1  G2  G3  \n",
      "0      4        3      4     1     1      3        4   0  11  11  \n",
      "1      5        3      3     1     1      3        2   9  11  11  \n",
      "2      4        3      2     2     3      3        6  12  13  12  \n",
      "3      3        2      2     1     1      5        0  14  14  14  \n",
      "4      4        3      2     1     2      5        0  11  13  13  \n",
      "\n",
      "[5 rows x 33 columns]\n"
     ]
    }
   ],
   "source": [
    "# Math dataset summary\n",
    "print(\"### Math Dataset\")\n",
    "summarize_dataset(mat)\n",
    "\n",
    "# Portuguese dataset summary\n",
    "print(\"\\n### Portuguese Dataset\")\n",
    "summarize_dataset(por)\n"
   ]
  },
  {
   "cell_type": "markdown",
   "id": "f61dae76",
   "metadata": {},
   "source": [
    "## 3. Summary Statistics\n"
   ]
  },
  {
   "cell_type": "code",
   "execution_count": 10,
   "id": "7f668444",
   "metadata": {},
   "outputs": [
    {
     "name": "stdout",
     "output_type": "stream",
     "text": [
      "2025-09-20 10:27:36,497 [INFO] Math dataset loaded successfully with shape (395, 33)\n",
      "2025-09-20 10:27:36,498 [INFO] Portuguese dataset loaded successfully with shape (649, 33)\n",
      "Math dataset shape: (395, 33)\n",
      "Portuguese dataset shape: (649, 33)\n"
     ]
    }
   ],
   "source": [
    "# Load both datasets (math and portuguese)\n",
    "mat, por = load_data()\n",
    "\n",
    "print(\"Math dataset shape:\", mat.shape)\n",
    "print(\"Portuguese dataset shape:\", por.shape)\n"
   ]
  },
  {
   "cell_type": "markdown",
   "id": "c2a45618",
   "metadata": {},
   "source": [
    "## 2. Load Data\n"
   ]
  },
  {
   "cell_type": "code",
   "execution_count": 11,
   "id": "f5ccf670",
   "metadata": {},
   "outputs": [],
   "source": [
    "# 1. Setup\n",
    "import os\n",
    "import sys\n",
    "import pandas as pd\n",
    "\n",
    "# Add ../src to Python path (so Jupyter can find your project modules)\n",
    "sys.path.append(os.path.abspath(os.path.join(\"..\", \"src\")))\n",
    "\n",
    "# Now you can import from your src/ folder\n",
    "from data_loader import load_data\n",
    "from eda import summarize_dataset, plot_distributions, plot_correlation_heatmap\n"
   ]
  },
  {
   "cell_type": "markdown",
   "id": "bd1c2384",
   "metadata": {},
   "source": [
    "# 01 Data Exploration\n",
    "\n",
    "This notebook performs exploratory data analysis (EDA) on the UCI Student Performance datasets (`student-mat.csv` and `student-por.csv`).  \n",
    "We explore dataset structure, missing values, distributions, and correlations.\n"
   ]
  }
 ],
 "metadata": {
  "kernelspec": {
   "display_name": "base",
   "language": "python",
   "name": "python3"
  },
  "language_info": {
   "codemirror_mode": {
    "name": "ipython",
    "version": 3
   },
   "file_extension": ".py",
   "mimetype": "text/x-python",
   "name": "python",
   "nbconvert_exporter": "python",
   "pygments_lexer": "ipython3",
   "version": "3.12.7"
  }
 },
 "nbformat": 4,
 "nbformat_minor": 5
}
