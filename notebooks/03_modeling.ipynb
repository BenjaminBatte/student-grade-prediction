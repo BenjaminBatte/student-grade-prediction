{
 "cells": [
  {
   "cell_type": "markdown",
   "metadata": {},
   "source": [
    "# Modeling\n",
    "This notebook trains, evaluates, and saves models."
   ]
  },
  {
   "cell_type": "code",
   "execution_count": 7,
   "metadata": {},
   "outputs": [],
   "source": [
    "import sys\n",
    "from pathlib import Path\n",
    "\n",
    "# Add the src folder directly\n",
    "src_path = Path.cwd().parent / \"src\"\n",
    "sys.path.insert(0, str(src_path))\n",
    "\n",
    "from data_loader import load_data\n",
    "from preprocessing import build_preprocessor\n",
    "from model import train_model, evaluate_model, save_model\n",
    "from sklearn.linear_model import LinearRegression\n",
    "from sklearn.ensemble import RandomForestRegressor\n",
    "from sklearn.pipeline import Pipeline\n",
    "\n"
   ]
  },
  {
   "cell_type": "code",
   "execution_count": 8,
   "metadata": {},
   "outputs": [
    {
     "name": "stdout",
     "output_type": "stream",
     "text": [
      "2025-09-29 09:20:48,201 [INFO] Math dataset loaded successfully with shape (395, 33)\n",
      "2025-09-29 09:20:48,203 [INFO] Portuguese dataset loaded successfully with shape (649, 33)\n",
      "Math dataset loaded successfully!\n",
      "Shape: (395, 33)\n"
     ]
    }
   ],
   "source": [
    "# Load dataset (Math for example)\n",
    "mat, _ = load_data()\n",
    "if mat is None:\n",
    "    print(\"Dataset not found!\")\n",
    "else:\n",
    "    print(\"Math dataset loaded successfully!\")\n",
    "    print(\"Shape:\", mat.shape)"
   ]
  },
  {
   "cell_type": "code",
   "execution_count": 9,
   "metadata": {},
   "outputs": [
    {
     "name": "stdout",
     "output_type": "stream",
     "text": [
      "Numeric columns: 15\n",
      "Categorical columns: 17\n"
     ]
    }
   ],
   "source": [
    "X = mat.drop(\"G3\", axis=1)\n",
    "y = mat[\"G3\"]\n",
    "\n",
    "numeric_cols = X.select_dtypes(include=[\"int64\", \"float64\"]).columns.tolist()\n",
    "categorical_cols = X.select_dtypes(include=[\"object\"]).columns.tolist()\n",
    "\n",
    "print(\"Numeric columns:\", len(numeric_cols))\n",
    "print(\"Categorical columns:\", len(categorical_cols))"
   ]
  },
  {
   "cell_type": "code",
   "execution_count": 10,
   "metadata": {},
   "outputs": [
    {
     "name": "stdout",
     "output_type": "stream",
     "text": [
      "Models to train: ['linear_regression', 'random_forest']\n"
     ]
    }
   ],
   "source": [
    "# Define models\n",
    "models = {\n",
    "    \"linear_regression\": LinearRegression(),\n",
    "    \"random_forest\": RandomForestRegressor(n_estimators=100, random_state=42),\n",
    "}\n",
    "\n",
    "print(\"Models to train:\", list(models.keys()))"
   ]
  },
  {
   "cell_type": "code",
   "execution_count": 11,
   "metadata": {},
   "outputs": [
    {
     "name": "stdout",
     "output_type": "stream",
     "text": [
      "\n",
      "=== Training linear_regression ===\n",
      "2025-09-29 09:20:48,318 [INFO] ✅ Model training completed. Train size: 316, Test size: 79\n",
      "2025-09-29 09:20:48,347 [INFO] 📊 Model evaluation completed. Metrics saved to: results/metrics\\metrics_math_linear_regression.csv\n",
      "2025-09-29 09:20:48,350 [INFO]    MAE: 1.647, RMSE: 2.378, R²: 0.724\n"
     ]
    },
    {
     "name": "stdout",
     "output_type": "stream",
     "text": [
      "2025-09-29 09:20:48,370 [INFO] [SAVE] Versioned model saved at: results/models\\linear_regression_math.pkl\n",
      "2025-09-29 09:20:48,384 [INFO] [SAVE] Latest model updated at: results/models\\latest_model.pkl\n",
      "linear_regression training completed!\n",
      "\n",
      "=== Training random_forest ===\n",
      "2025-09-29 09:20:48,854 [INFO] ✅ Model training completed. Train size: 316, Test size: 79\n",
      "2025-09-29 09:20:48,901 [INFO] 📊 Model evaluation completed. Metrics saved to: results/metrics\\metrics_math_random_forest.csv\n",
      "2025-09-29 09:20:48,903 [INFO]    MAE: 1.179, RMSE: 1.958, R²: 0.813\n",
      "2025-09-29 09:20:48,978 [INFO] [SAVE] Versioned model saved at: results/models\\random_forest_math.pkl\n",
      "2025-09-29 09:20:49,050 [INFO] [SAVE] Latest model updated at: results/models\\latest_model.pkl\n",
      "random_forest training completed!\n"
     ]
    }
   ],
   "source": [
    "results = {}\n",
    "\n",
    "for name, model in models.items():\n",
    "    print(f\"\\n=== Training {name} ===\")\n",
    "    \n",
    "    pipeline = Pipeline([\n",
    "        (\"preprocessor\", build_preprocessor(numeric_cols, categorical_cols)),\n",
    "        (\"model\", model),\n",
    "    ])\n",
    "\n",
    "    pipeline, X_test, y_test = train_model(X, y, pipeline)\n",
    "    metrics = evaluate_model(\n",
    "        pipeline, X_test, y_test,\n",
    "        metrics_path=\"results/metrics\",\n",
    "        dataset_name=f\"math_{name}\"\n",
    "    )\n",
    "    save_model(pipeline, \"results/models\", f\"{name}_math.pkl\")\n",
    "    results[name] = metrics\n",
    "    \n",
    "    print(f\"{name} training completed!\")"
   ]
  },
  {
   "cell_type": "code",
   "execution_count": 12,
   "metadata": {},
   "outputs": [
    {
     "name": "stdout",
     "output_type": "stream",
     "text": [
      "\n",
      "=== Model Results ===\n",
      "\n",
      "linear_regression:\n",
      "  mae: 1.6470\n",
      "  mse: 5.6570\n",
      "  rmse: 2.3780\n",
      "  r2: 0.7240\n",
      "  dataset: math_linear_regression\n",
      "  timestamp: 2025-09-29 09:20:48\n",
      "\n",
      "random_forest:\n",
      "  mae: 1.1790\n",
      "  mse: 3.8350\n",
      "  rmse: 1.9580\n",
      "  r2: 0.8130\n",
      "  dataset: math_random_forest\n",
      "  timestamp: 2025-09-29 09:20:48\n"
     ]
    }
   ],
   "source": [
    "print(\"\\n=== Model Results ===\")\n",
    "for model_name, metrics in results.items():\n",
    "    print(f\"\\n{model_name}:\")\n",
    "    for metric, value in metrics.items():\n",
    "        if isinstance(value, (int, float)):   \n",
    "            print(f\"  {metric}: {value:.4f}\")\n",
    "        else:                                 \n",
    "            print(f\"  {metric}: {value}\")\n"
   ]
  }
 ],
 "metadata": {
  "kernelspec": {
   "display_name": "base",
   "language": "python",
   "name": "python3"
  },
  "language_info": {
   "codemirror_mode": {
    "name": "ipython",
    "version": 3
   },
   "file_extension": ".py",
   "mimetype": "text/x-python",
   "name": "python",
   "nbconvert_exporter": "python",
   "pygments_lexer": "ipython3",
   "version": "3.12.3"
  }
 },
 "nbformat": 4,
 "nbformat_minor": 4
}
