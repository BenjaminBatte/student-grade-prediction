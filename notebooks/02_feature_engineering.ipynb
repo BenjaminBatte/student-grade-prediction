{
 "cells": [
  {
   "cell_type": "markdown",
   "metadata": {},
   "source": [
    "# Feature Engineering\n",
    "This notebook preprocesses the datasets using scaling + one-hot encoding."
   ]
  },
  {
   "cell_type": "code",
   "execution_count": 7,
   "metadata": {},
   "outputs": [],
   "source": [
    "from pathlib import Path\n",
    "import sys\n",
    "import pandas as pd\n",
    "\n",
    "# Add src folder directly\n",
    "src_path = Path.cwd().parent / \"src\"\n",
    "sys.path.insert(0, str(src_path))\n",
    "\n",
    "from data_loader import load_data\n",
    "from preprocessing import build_preprocessor\n"
   ]
  },
  {
   "cell_type": "code",
   "execution_count": 8,
   "metadata": {},
   "outputs": [
    {
     "name": "stdout",
     "output_type": "stream",
     "text": [
      "2025-09-29 09:20:52,289 [INFO] Math dataset loaded successfully with shape (395, 33)\n",
      "2025-09-29 09:20:52,292 [INFO] Portuguese dataset loaded successfully with shape (649, 33)\n",
      "Dataset loaded successfully!\n"
     ]
    }
   ],
   "source": [
    "# Load Portuguese dataset for demonstration\n",
    "_, por = load_data()\n",
    "if por is None:\n",
    "    print(\"Dataset not found!\")\n",
    "else:\n",
    "    print(\"Dataset loaded successfully!\")"
   ]
  },
  {
   "cell_type": "code",
   "execution_count": 9,
   "metadata": {},
   "outputs": [
    {
     "name": "stdout",
     "output_type": "stream",
     "text": [
      "Features shape: (649, 32)\n",
      "Target shape: (649,)\n"
     ]
    }
   ],
   "source": [
    "X = por.drop(\"G3\", axis=1)\n",
    "y = por[\"G3\"]\n",
    "\n",
    "print(\"Features shape:\", X.shape)\n",
    "print(\"Target shape:\", y.shape)"
   ]
  },
  {
   "cell_type": "code",
   "execution_count": 10,
   "metadata": {},
   "outputs": [
    {
     "name": "stdout",
     "output_type": "stream",
     "text": [
      "Numeric columns: ['age', 'Medu', 'Fedu', 'traveltime', 'studytime', 'failures', 'famrel', 'freetime', 'goout', 'Dalc', 'Walc', 'health', 'absences', 'G1', 'G2']\n",
      "Categorical columns: ['school', 'sex', 'address', 'famsize', 'Pstatus', 'Mjob', 'Fjob', 'reason', 'guardian', 'schoolsup', 'famsup', 'paid', 'activities', 'nursery', 'higher', 'internet', 'romantic']\n"
     ]
    }
   ],
   "source": [
    "# Identify column types\n",
    "numeric_cols = X.select_dtypes(include=[\"int64\", \"float64\"]).columns.tolist()\n",
    "categorical_cols = X.select_dtypes(include=[\"object\"]).columns.tolist()\n",
    "\n",
    "print(\"Numeric columns:\", numeric_cols)\n",
    "print(\"Categorical columns:\", categorical_cols)"
   ]
  },
  {
   "cell_type": "code",
   "execution_count": 11,
   "metadata": {},
   "outputs": [
    {
     "name": "stdout",
     "output_type": "stream",
     "text": [
      "Original shape: (649, 32)\n",
      "Transformed shape: (649, 41)\n"
     ]
    }
   ],
   "source": [
    "# Build preprocessor and transform\n",
    "preprocessor = build_preprocessor(numeric_cols, categorical_cols)\n",
    "X_transformed = preprocessor.fit_transform(X)\n",
    "\n",
    "print(\"Original shape:\", X.shape)\n",
    "print(\"Transformed shape:\", X_transformed.shape)"
   ]
  },
  {
   "cell_type": "code",
   "execution_count": 12,
   "metadata": {},
   "outputs": [
    {
     "name": "stdout",
     "output_type": "stream",
     "text": [
      "Number of features after preprocessing: 41\n",
      "First 10 features: ['num__age' 'num__Medu' 'num__Fedu' 'num__traveltime' 'num__studytime'\n",
      " 'num__failures' 'num__famrel' 'num__freetime' 'num__goout' 'num__Dalc']\n"
     ]
    }
   ],
   "source": [
    "# Display feature names after transformation\n",
    "feature_names = preprocessor.get_feature_names_out()\n",
    "print(\"Number of features after preprocessing:\", len(feature_names))\n",
    "print(\"First 10 features:\", feature_names[:10])"
   ]
  }
 ],
 "metadata": {
  "kernelspec": {
   "display_name": "base",
   "language": "python",
   "name": "python3"
  },
  "language_info": {
   "codemirror_mode": {
    "name": "ipython",
    "version": 3
   },
   "file_extension": ".py",
   "mimetype": "text/x-python",
   "name": "python",
   "nbconvert_exporter": "python",
   "pygments_lexer": "ipython3",
   "version": "3.12.3"
  }
 },
 "nbformat": 4,
 "nbformat_minor": 4
}
