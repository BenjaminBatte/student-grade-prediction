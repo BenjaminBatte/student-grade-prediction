{
 "cells": [
  {
   "cell_type": "markdown",
   "metadata": {},
   "source": [
    "# Predictions\n",
    "This notebook runs predictions on new/unseen student data."
   ]
  },
  {
   "cell_type": "code",
   "execution_count": 30,
   "metadata": {},
   "outputs": [],
   "source": [
    "import os, sys\n",
    "sys.path.insert(0, os.path.abspath(os.path.join(os.path.dirname('__file__'), \"..\")))\n",
    "\n",
    "import pandas as pd\n",
    "from src.predict import run_prediction"
   ]
  },
  {
   "cell_type": "code",
   "execution_count": 31,
   "metadata": {},
   "outputs": [
    {
     "name": "stdout",
     "output_type": "stream",
     "text": [
      "Model path: ../results/models/random_forest_math.pkl\n",
      "Data path: ../data/student-mat.csv\n",
      "Output directory: ../results/predictions\n"
     ]
    }
   ],
   "source": [
    "# Set paths (relative to notebooks/ folder)\n",
    "model_path = \"../results/models/random_forest_math.pkl\"\n",
    "data_path = \"../data/student-mat.csv\"\n",
    "output_dir = \"../results/predictions\"\n",
    "\n",
    "print(\"Model path:\", model_path)\n",
    "print(\"Data path:\", data_path)\n",
    "print(\"Output directory:\", output_dir)\n"
   ]
  },
  {
   "cell_type": "code",
   "execution_count": 32,
   "metadata": {},
   "outputs": [
    {
     "name": "stdout",
     "output_type": "stream",
     "text": [
      "Model exists: True\n",
      "Data exists: True\n",
      "Output directory exists: True\n"
     ]
    }
   ],
   "source": [
    "# Check if files exist\n",
    "print(\"Model exists:\", os.path.exists(model_path))\n",
    "print(\"Data exists:\", os.path.exists(data_path))\n",
    "print(\"Output directory exists:\", os.path.exists(output_dir))"
   ]
  },
  {
   "cell_type": "code",
   "execution_count": 33,
   "metadata": {},
   "outputs": [
    {
     "name": "stdout",
     "output_type": "stream",
     "text": [
      "Data shape: (395, 1)\n",
      "\n",
      "First few rows:\n"
     ]
    },
    {
     "data": {
      "text/html": [
       "<div>\n",
       "<style scoped>\n",
       "    .dataframe tbody tr th:only-of-type {\n",
       "        vertical-align: middle;\n",
       "    }\n",
       "\n",
       "    .dataframe tbody tr th {\n",
       "        vertical-align: top;\n",
       "    }\n",
       "\n",
       "    .dataframe thead th {\n",
       "        text-align: right;\n",
       "    }\n",
       "</style>\n",
       "<table border=\"1\" class=\"dataframe\">\n",
       "  <thead>\n",
       "    <tr style=\"text-align: right;\">\n",
       "      <th></th>\n",
       "      <th>school;sex;age;address;famsize;Pstatus;Medu;Fedu;Mjob;Fjob;reason;guardian;traveltime;studytime;failures;schoolsup;famsup;paid;activities;nursery;higher;internet;romantic;famrel;freetime;goout;Dalc;Walc;health;absences;G1;G2;G3</th>\n",
       "    </tr>\n",
       "  </thead>\n",
       "  <tbody>\n",
       "    <tr>\n",
       "      <th>0</th>\n",
       "      <td>GP;\"F\";18;\"U\";\"GT3\";\"A\";4;4;\"at_home\";\"teacher...</td>\n",
       "    </tr>\n",
       "    <tr>\n",
       "      <th>1</th>\n",
       "      <td>GP;\"F\";17;\"U\";\"GT3\";\"T\";1;1;\"at_home\";\"other\";...</td>\n",
       "    </tr>\n",
       "    <tr>\n",
       "      <th>2</th>\n",
       "      <td>GP;\"F\";15;\"U\";\"LE3\";\"T\";1;1;\"at_home\";\"other\";...</td>\n",
       "    </tr>\n",
       "    <tr>\n",
       "      <th>3</th>\n",
       "      <td>GP;\"F\";15;\"U\";\"GT3\";\"T\";4;2;\"health\";\"services...</td>\n",
       "    </tr>\n",
       "    <tr>\n",
       "      <th>4</th>\n",
       "      <td>GP;\"F\";16;\"U\";\"GT3\";\"T\";3;3;\"other\";\"other\";\"h...</td>\n",
       "    </tr>\n",
       "  </tbody>\n",
       "</table>\n",
       "</div>"
      ],
      "text/plain": [
       "  school;sex;age;address;famsize;Pstatus;Medu;Fedu;Mjob;Fjob;reason;guardian;traveltime;studytime;failures;schoolsup;famsup;paid;activities;nursery;higher;internet;romantic;famrel;freetime;goout;Dalc;Walc;health;absences;G1;G2;G3\n",
       "0  GP;\"F\";18;\"U\";\"GT3\";\"A\";4;4;\"at_home\";\"teacher...                                                                                                                                                                                 \n",
       "1  GP;\"F\";17;\"U\";\"GT3\";\"T\";1;1;\"at_home\";\"other\";...                                                                                                                                                                                 \n",
       "2  GP;\"F\";15;\"U\";\"LE3\";\"T\";1;1;\"at_home\";\"other\";...                                                                                                                                                                                 \n",
       "3  GP;\"F\";15;\"U\";\"GT3\";\"T\";4;2;\"health\";\"services...                                                                                                                                                                                 \n",
       "4  GP;\"F\";16;\"U\";\"GT3\";\"T\";3;3;\"other\";\"other\";\"h...                                                                                                                                                                                 "
      ]
     },
     "metadata": {},
     "output_type": "display_data"
    }
   ],
   "source": [
    "# Load sample data to preview\n",
    "if os.path.exists(data_path):\n",
    "    sample_data = pd.read_csv(data_path)\n",
    "    print(\"Data shape:\", sample_data.shape)\n",
    "    print(\"\\nFirst few rows:\")\n",
    "    display(sample_data.head())\n",
    "else:\n",
    "    print(\"Data file not found!\")"
   ]
  },
  {
   "cell_type": "code",
   "execution_count": 34,
   "metadata": {},
   "outputs": [
    {
     "name": "stdout",
     "output_type": "stream",
     "text": [
      "Running predictions...\n",
      "⚠️  Target column 'G3' removed from input data\n",
      "\n",
      "==================================================\n",
      "PREDICTION SUMMARY\n",
      "==================================================\n",
      "Model: random_forest_math.pkl\n",
      "Input data: student-mat.csv\n",
      "Number of predictions: 395\n",
      "Prediction range: 0.0 - 19.4\n",
      "Average prediction: 10.42\n",
      "\n",
      "First 10 predictions:\n",
      "  Student 1: 6.27 (rounded: 6)\n",
      "  Student 2: 5.59 (rounded: 6)\n",
      "  Student 3: 9.42 (rounded: 9)\n",
      "  Student 4: 14.20 (rounded: 14)\n",
      "  Student 5: 9.86 (rounded: 10)\n",
      "  Student 6: 15.29 (rounded: 15)\n",
      "  Student 7: 11.47 (rounded: 11)\n",
      "  Student 8: 5.77 (rounded: 6)\n",
      "  Student 9: 18.62 (rounded: 19)\n",
      "  Student 10: 15.64 (rounded: 16)\n",
      "\n",
      "✅ Predictions saved to: ../results/predictions\\predictions_20250927_164831.csv\n",
      "Predictions completed!\n"
     ]
    }
   ],
   "source": [
    "# Run prediction\n",
    "if os.path.exists(model_path) and os.path.exists(data_path):\n",
    "    print(\"Running predictions...\")\n",
    "    predictions = run_prediction(model_path, data_path, output_dir)\n",
    "    print(\"Predictions completed!\")\n",
    "else:\n",
    "    print(\"Required files not found. Please check paths.\")"
   ]
  },
  {
   "cell_type": "code",
   "execution_count": 35,
   "metadata": {},
   "outputs": [
    {
     "name": "stdout",
     "output_type": "stream",
     "text": [
      "Loaded: ../results/predictions\\predictions_20250927_164831.csv\n",
      "Predictions shape: (395, 2)\n",
      "\n",
      "First 10 predictions:\n"
     ]
    },
    {
     "data": {
      "text/html": [
       "<div>\n",
       "<style scoped>\n",
       "    .dataframe tbody tr th:only-of-type {\n",
       "        vertical-align: middle;\n",
       "    }\n",
       "\n",
       "    .dataframe tbody tr th {\n",
       "        vertical-align: top;\n",
       "    }\n",
       "\n",
       "    .dataframe thead th {\n",
       "        text-align: right;\n",
       "    }\n",
       "</style>\n",
       "<table border=\"1\" class=\"dataframe\">\n",
       "  <thead>\n",
       "    <tr style=\"text-align: right;\">\n",
       "      <th></th>\n",
       "      <th>prediction</th>\n",
       "      <th>prediction_rounded</th>\n",
       "    </tr>\n",
       "  </thead>\n",
       "  <tbody>\n",
       "    <tr>\n",
       "      <th>0</th>\n",
       "      <td>6.27</td>\n",
       "      <td>6</td>\n",
       "    </tr>\n",
       "    <tr>\n",
       "      <th>1</th>\n",
       "      <td>5.59</td>\n",
       "      <td>6</td>\n",
       "    </tr>\n",
       "    <tr>\n",
       "      <th>2</th>\n",
       "      <td>9.42</td>\n",
       "      <td>9</td>\n",
       "    </tr>\n",
       "    <tr>\n",
       "      <th>3</th>\n",
       "      <td>14.20</td>\n",
       "      <td>14</td>\n",
       "    </tr>\n",
       "    <tr>\n",
       "      <th>4</th>\n",
       "      <td>9.86</td>\n",
       "      <td>10</td>\n",
       "    </tr>\n",
       "    <tr>\n",
       "      <th>5</th>\n",
       "      <td>15.29</td>\n",
       "      <td>15</td>\n",
       "    </tr>\n",
       "    <tr>\n",
       "      <th>6</th>\n",
       "      <td>11.47</td>\n",
       "      <td>11</td>\n",
       "    </tr>\n",
       "    <tr>\n",
       "      <th>7</th>\n",
       "      <td>5.77</td>\n",
       "      <td>6</td>\n",
       "    </tr>\n",
       "    <tr>\n",
       "      <th>8</th>\n",
       "      <td>18.62</td>\n",
       "      <td>19</td>\n",
       "    </tr>\n",
       "    <tr>\n",
       "      <th>9</th>\n",
       "      <td>15.64</td>\n",
       "      <td>16</td>\n",
       "    </tr>\n",
       "  </tbody>\n",
       "</table>\n",
       "</div>"
      ],
      "text/plain": [
       "   prediction  prediction_rounded\n",
       "0        6.27                   6\n",
       "1        5.59                   6\n",
       "2        9.42                   9\n",
       "3       14.20                  14\n",
       "4        9.86                  10\n",
       "5       15.29                  15\n",
       "6       11.47                  11\n",
       "7        5.77                   6\n",
       "8       18.62                  19\n",
       "9       15.64                  16"
      ]
     },
     "metadata": {},
     "output_type": "display_data"
    }
   ],
   "source": [
    "\n",
    "# Find the latest predictions file\n",
    "files = glob.glob(os.path.join(output_dir, \"predictions_*.csv\"))\n",
    "if files:\n",
    "    latest_file = max(files, key=os.path.getctime)\n",
    "    pred_df = pd.read_csv(latest_file)\n",
    "    print(f\"Loaded: {latest_file}\")\n",
    "    print(\"Predictions shape:\", pred_df.shape)\n",
    "    print(\"\\nFirst 10 predictions:\")\n",
    "    display(pred_df.head(10))\n",
    "else:\n",
    "    print(\"No predictions file found in\", output_dir)\n"
   ]
  }
 ],
 "metadata": {
  "kernelspec": {
   "display_name": "base",
   "language": "python",
   "name": "python3"
  },
  "language_info": {
   "codemirror_mode": {
    "name": "ipython",
    "version": 3
   },
   "file_extension": ".py",
   "mimetype": "text/x-python",
   "name": "python",
   "nbconvert_exporter": "python",
   "pygments_lexer": "ipython3",
   "version": "3.12.3"
  }
 },
 "nbformat": 4,
 "nbformat_minor": 4
}
